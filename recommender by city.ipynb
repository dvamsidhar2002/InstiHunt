{
 "cells": [
  {
   "cell_type": "code",
   "execution_count": 38,
   "metadata": {},
   "outputs": [],
   "source": [
    "#importing dependencies\n",
    "import pandas as pd\n",
    "import numpy as np\n",
    "import difflib\n",
    "from sklearn.feature_extraction.text import TfidfVectorizer\n",
    "from sklearn.metrics.pairwise import cosine_similarity"
   ]
  },
  {
   "cell_type": "code",
   "execution_count": 4,
   "metadata": {},
   "outputs": [
    {
     "data": {
      "text/html": [
       "<div>\n",
       "<style scoped>\n",
       "    .dataframe tbody tr th:only-of-type {\n",
       "        vertical-align: middle;\n",
       "    }\n",
       "\n",
       "    .dataframe tbody tr th {\n",
       "        vertical-align: top;\n",
       "    }\n",
       "\n",
       "    .dataframe thead th {\n",
       "        text-align: right;\n",
       "    }\n",
       "</style>\n",
       "<table border=\"1\" class=\"dataframe\">\n",
       "  <thead>\n",
       "    <tr style=\"text-align: right;\">\n",
       "      <th></th>\n",
       "      <th>College Name</th>\n",
       "      <th>College City</th>\n",
       "      <th>State</th>\n",
       "      <th>Approvals</th>\n",
       "      <th>Placement</th>\n",
       "      <th>Cut_Off</th>\n",
       "      <th>List_of_Courses</th>\n",
       "    </tr>\n",
       "  </thead>\n",
       "  <tbody>\n",
       "    <tr>\n",
       "      <th>0</th>\n",
       "      <td>IIM Bangalore - Indian Institute of Management</td>\n",
       "      <td>Bangalore</td>\n",
       "      <td>Karnataka</td>\n",
       "      <td>['AICTE', 'UGC']</td>\n",
       "      <td>[{'Batch': 'Number of Companies Participated',...</td>\n",
       "      <td>[{'College': 'IIM Ahmedabad', 'Minimum Expecte...</td>\n",
       "      <td>NaN</td>\n",
       "    </tr>\n",
       "    <tr>\n",
       "      <th>1</th>\n",
       "      <td>IIT Madras - Indian Institute of Technology - ...</td>\n",
       "      <td>Chennai</td>\n",
       "      <td>Tamil Nadu</td>\n",
       "      <td>['AICTE']</td>\n",
       "      <td>[{'Batch': 'Number of Companies Participated',...</td>\n",
       "      <td>[{('Courses', 'Courses'): 'B.Tech Computer Sci...</td>\n",
       "      <td>[{0: 'Program', 1: 'Eligibility', 2: 'IIT Madr...</td>\n",
       "    </tr>\n",
       "    <tr>\n",
       "      <th>2</th>\n",
       "      <td>Universal Business School - [UBS]</td>\n",
       "      <td>Karjat</td>\n",
       "      <td>Maharashtra</td>\n",
       "      <td>['AICTE', 'NBA', 'AIU']</td>\n",
       "      <td>[{'Particulars': 'Highest International packag...</td>\n",
       "      <td>[{'Name of the Exam': 'CAT', 'Cutoff': '70%ile...</td>\n",
       "      <td>NaN</td>\n",
       "    </tr>\n",
       "    <tr>\n",
       "      <th>3</th>\n",
       "      <td>IIT Delhi - Indian Institute of Technology [IITD]</td>\n",
       "      <td>New Delhi</td>\n",
       "      <td>Delhi NCR</td>\n",
       "      <td>[]</td>\n",
       "      <td>[{'Particulars': 'PPOs Offered', 'Placement St...</td>\n",
       "      <td>[{('B.Tech Specialisation', 'B.Tech Specialisa...</td>\n",
       "      <td>[{('IIT Delhi Courses &amp; Fees 2023', 'Program')...</td>\n",
       "    </tr>\n",
       "    <tr>\n",
       "      <th>4</th>\n",
       "      <td>IIT Bombay - Indian Institute of Technology - ...</td>\n",
       "      <td>Mumbai</td>\n",
       "      <td>Maharashtra</td>\n",
       "      <td>['AICTE', 'UGC']</td>\n",
       "      <td>[{'Particulars': 'No. of Companies offered Job...</td>\n",
       "      <td>[{('Courses', 'Courses'): 'B.Tech Computer Sci...</td>\n",
       "      <td>NaN</td>\n",
       "    </tr>\n",
       "  </tbody>\n",
       "</table>\n",
       "</div>"
      ],
      "text/plain": [
       "                                        College Name College City  \\\n",
       "0     IIM Bangalore - Indian Institute of Management    Bangalore   \n",
       "1  IIT Madras - Indian Institute of Technology - ...      Chennai   \n",
       "2                  Universal Business School - [UBS]       Karjat   \n",
       "3  IIT Delhi - Indian Institute of Technology [IITD]    New Delhi   \n",
       "4  IIT Bombay - Indian Institute of Technology - ...       Mumbai   \n",
       "\n",
       "         State                Approvals  \\\n",
       "0    Karnataka         ['AICTE', 'UGC']   \n",
       "1   Tamil Nadu                ['AICTE']   \n",
       "2  Maharashtra  ['AICTE', 'NBA', 'AIU']   \n",
       "3    Delhi NCR                       []   \n",
       "4  Maharashtra         ['AICTE', 'UGC']   \n",
       "\n",
       "                                           Placement  \\\n",
       "0  [{'Batch': 'Number of Companies Participated',...   \n",
       "1  [{'Batch': 'Number of Companies Participated',...   \n",
       "2  [{'Particulars': 'Highest International packag...   \n",
       "3  [{'Particulars': 'PPOs Offered', 'Placement St...   \n",
       "4  [{'Particulars': 'No. of Companies offered Job...   \n",
       "\n",
       "                                             Cut_Off  \\\n",
       "0  [{'College': 'IIM Ahmedabad', 'Minimum Expecte...   \n",
       "1  [{('Courses', 'Courses'): 'B.Tech Computer Sci...   \n",
       "2  [{'Name of the Exam': 'CAT', 'Cutoff': '70%ile...   \n",
       "3  [{('B.Tech Specialisation', 'B.Tech Specialisa...   \n",
       "4  [{('Courses', 'Courses'): 'B.Tech Computer Sci...   \n",
       "\n",
       "                                     List_of_Courses  \n",
       "0                                                NaN  \n",
       "1  [{0: 'Program', 1: 'Eligibility', 2: 'IIT Madr...  \n",
       "2                                                NaN  \n",
       "3  [{('IIT Delhi Courses & Fees 2023', 'Program')...  \n",
       "4                                                NaN  "
      ]
     },
     "execution_count": 4,
     "metadata": {},
     "output_type": "execute_result"
    }
   ],
   "source": [
    "data = pd.read_excel('top_clgs_new.xlsx')\n",
    "data.head()"
   ]
  },
  {
   "cell_type": "code",
   "execution_count": 5,
   "metadata": {},
   "outputs": [
    {
     "name": "stdout",
     "output_type": "stream",
     "text": [
      "<class 'pandas.core.frame.DataFrame'>\n",
      "RangeIndex: 10010 entries, 0 to 10009\n",
      "Data columns (total 7 columns):\n",
      " #   Column           Non-Null Count  Dtype \n",
      "---  ------           --------------  ----- \n",
      " 0   College Name     10010 non-null  object\n",
      " 1   College City     10010 non-null  object\n",
      " 2   State            10010 non-null  object\n",
      " 3   Approvals        10010 non-null  object\n",
      " 4   Placement        1086 non-null   object\n",
      " 5   Cut_Off          4136 non-null   object\n",
      " 6   List_of_Courses  749 non-null    object\n",
      "dtypes: object(7)\n",
      "memory usage: 547.5+ KB\n"
     ]
    }
   ],
   "source": [
    "data.info()"
   ]
  },
  {
   "cell_type": "code",
   "execution_count": 6,
   "metadata": {},
   "outputs": [
    {
     "data": {
      "text/plain": [
       "College Name          0\n",
       "College City          0\n",
       "State                 0\n",
       "Approvals             0\n",
       "Placement          8924\n",
       "Cut_Off            5874\n",
       "List_of_Courses    9261\n",
       "dtype: int64"
      ]
     },
     "execution_count": 6,
     "metadata": {},
     "output_type": "execute_result"
    }
   ],
   "source": [
    "data.isnull().sum()"
   ]
  },
  {
   "cell_type": "code",
   "execution_count": 7,
   "metadata": {},
   "outputs": [
    {
     "data": {
      "text/plain": [
       "Index(['College Name', 'College City', 'State', 'Approvals', 'Placement',\n",
       "       'Cut_Off', 'List_of_Courses'],\n",
       "      dtype='object')"
      ]
     },
     "execution_count": 7,
     "metadata": {},
     "output_type": "execute_result"
    }
   ],
   "source": [
    "data.columns"
   ]
  },
  {
   "cell_type": "code",
   "execution_count": 62,
   "metadata": {},
   "outputs": [],
   "source": [
    "data.rename(columns={'College City':'City'},inplace=True)"
   ]
  },
  {
   "cell_type": "code",
   "execution_count": 8,
   "metadata": {},
   "outputs": [
    {
     "data": {
      "text/plain": [
       "(10010, 7)"
      ]
     },
     "execution_count": 8,
     "metadata": {},
     "output_type": "execute_result"
    }
   ],
   "source": [
    "data.shape"
   ]
  },
  {
   "cell_type": "code",
   "execution_count": 22,
   "metadata": {},
   "outputs": [],
   "source": [
    "unique_state_names = data['State'].value_counts().sort_index(ascending=True)"
   ]
  },
  {
   "cell_type": "code",
   "execution_count": 23,
   "metadata": {},
   "outputs": [
    {
     "data": {
      "text/plain": [
       "33"
      ]
     },
     "execution_count": 23,
     "metadata": {},
     "output_type": "execute_result"
    }
   ],
   "source": [
    "len(unique_state_names)"
   ]
  },
  {
   "cell_type": "code",
   "execution_count": 24,
   "metadata": {},
   "outputs": [
    {
     "data": {
      "text/plain": [
       "Andaman and Nicobar Islands       3\n",
       "Andhra Pradesh                  422\n",
       "Arunachal Pradesh                11\n",
       "Assam                           150\n",
       "Bihar                           143\n",
       "Chandigarh                       54\n",
       "Chhattisgarh                    115\n",
       "Delhi NCR                       324\n",
       "Goa                              34\n",
       "Gujarat                         503\n",
       "Haryana                         365\n",
       "Himachal Pradesh                 83\n",
       "Jammu and Kashmir                43\n",
       "Jharkhand                        87\n",
       "Karnataka                       839\n",
       "Kerala                          577\n",
       "Madhya Pradesh                  439\n",
       "Maharashtra                    1432\n",
       "Manipur                          11\n",
       "Meghalaya                        21\n",
       "Mizoram                           9\n",
       "Nagaland                         16\n",
       "Orissa                          285\n",
       "Puducherry                       40\n",
       "Punjab                          360\n",
       "Rajasthan                       365\n",
       "Sikkim                           12\n",
       "Tamil Nadu                     1071\n",
       "Telangana                       397\n",
       "Tripura                          13\n",
       "Uttar Pradesh                  1116\n",
       "Uttarakhand                     167\n",
       "West Bengal                     503\n",
       "Name: State, dtype: int64"
      ]
     },
     "execution_count": 24,
     "metadata": {},
     "output_type": "execute_result"
    }
   ],
   "source": [
    "unique_state_names"
   ]
  },
  {
   "cell_type": "code",
   "execution_count": 30,
   "metadata": {},
   "outputs": [],
   "source": [
    "unique_city_names = data['College City'].unique()"
   ]
  },
  {
   "cell_type": "code",
   "execution_count": 31,
   "metadata": {},
   "outputs": [
    {
     "data": {
      "text/plain": [
       "849"
      ]
     },
     "execution_count": 31,
     "metadata": {},
     "output_type": "execute_result"
    }
   ],
   "source": [
    "len(unique_city_names)"
   ]
  },
  {
   "cell_type": "code",
   "execution_count": 32,
   "metadata": {},
   "outputs": [
    {
     "data": {
      "text/plain": [
       "array(['Bangalore', 'Chennai', 'Karjat', 'New Delhi', 'Mumbai',\n",
       "       'Kharagpur', 'Kanpur', 'Roorkee', 'Pilani', 'Guwahati',\n",
       "       'Ahmedabad', 'Chandigarh', 'Bikaner', 'Hyderabad', 'Kolkata',\n",
       "       'Lucknow', 'Vellore', 'Varanasi', 'Tiruchirappalli', 'Manipal',\n",
       "       'Pondicherry', 'Coimbatore', 'Guntur', 'Indore', 'Dhanbad',\n",
       "       'Bhopal', 'Rourkela', 'Pune', 'Navi Mumbai', 'Mohali', 'Ludhiana',\n",
       "       'Bhubaneswar', 'Howrah', 'Mangalore', 'Bareilly', 'Aligarh',\n",
       "       'Jamshedpur', 'Karnal', 'Mandi', 'Kozhikode', 'Thiruvananthapuram',\n",
       "       'Aurangabad', 'Vijayawada', 'Surathkal', 'Anand', 'Mysore',\n",
       "       'Jodhpur', 'Nagercoil', 'Patna', 'North Goa', 'Gandhinagar',\n",
       "       'Nagpur', 'Madurai', 'Pantnagar', 'Dharwad', 'Patiala',\n",
       "       'Ernakulam', 'Kochi', 'Panji', 'Gurgaon', 'Thane', 'Visakhapatnam',\n",
       "       'Secunderabad', 'Udaipur', 'Noida', 'Chidambaram', 'Imphal',\n",
       "       'Tirupati', 'Udagamandalam', 'Moradabad', 'Gwalior', 'Warangal',\n",
       "       'Kottayam', 'Raipur', 'Shillong', 'Dehradun', 'Durgapur',\n",
       "       'Calicut', 'Rohtak', 'Sivakasi', 'Ropar', 'Gurdaspur', 'Jaipur',\n",
       "       'Ghaziabad', 'Thrissur', 'Ranchi', 'Amritsar', 'Kashipur', 'Medak',\n",
       "       'Kanchipuram', 'Thanjavur', 'Wardha', 'Yamuna Nagar', 'Kapurthala',\n",
       "       'Greater Noida', 'East Sikkim', 'Kota', 'Kurukshetra',\n",
       "       'Virudhunagar', 'Davanagere', 'Kangra', 'Allahabad', 'Meerut',\n",
       "       'Gangtok', 'Shimla', 'Vadodara', 'Belgaum', 'Silchar', 'Cuttack',\n",
       "       'Tiruppur', 'Faridabad', 'Belagavi', 'Surat', 'Sambalpur',\n",
       "       'Kolhapur', 'Erode', 'Palayamkottai', 'Hamirpur', 'Ahmednagar',\n",
       "       'Krishnankovil', 'Virajpet', 'Moga', 'Hassan', 'Vizianagaram',\n",
       "       'Mahabubnagar', 'Thoothukkudi', 'Darbhanga', 'Sri City',\n",
       "       'Thodupuzha', 'Samastipur', 'Jammu', 'East Godavari', 'Agartala',\n",
       "       'Kollam', 'Panchkula', 'Surendra Nagar', 'Kuppam', 'Jalandhar',\n",
       "       'Visnagar', 'Junagadh', 'Jabalpur', 'Panipat', 'Dibrugarh',\n",
       "       'Eluru', 'Tumkur', 'Srikakulam', 'Gulbarga', 'Srinagar', 'Solan',\n",
       "       'Barnala', 'Bilaspur', 'Wayanad', 'Agra', 'Mandsaur', 'Katra',\n",
       "       'Bardez', 'Gaya', 'Baddi', 'Fatehgarh Sahib', 'South Goa',\n",
       "       'Bhavnagar', 'Rajkot', 'Una', 'Ri-Bhoi', 'Mathura',\n",
       "       'Sulthan Batheri', 'Nashik', 'Nellore', 'Jhansi', 'Zunhebotto',\n",
       "       'Yavatmal', 'Dhule', 'Sonepat', 'Kasaragod', 'Bhimavaram',\n",
       "       'Tezpur', 'Dhenkanal', 'Sathyamangalam', 'Sangli', 'Salem',\n",
       "       'Dharmapuri', 'Jalpaiguri', 'Dimapur', 'Pollachi', 'Chandrapur',\n",
       "       'Harihar', 'Bhagalpur', 'Tiruvalla', 'Nandurbar', 'Ratnagiri',\n",
       "       'Midnapore', 'Dewas', 'Solapur', 'Kannur', 'Chittorgarh', 'Burla',\n",
       "       'Udupi', 'Hisar', 'Berhampur', 'Idukki', 'Cooch Behar',\n",
       "       'Rangareddy', 'Sangrur', 'Bijapur', 'Etawah', 'Palakkad',\n",
       "       'Alappuzha', 'Sriperumbudur', 'Rayagada', 'Durg', 'Dindigul',\n",
       "       'Mayurbhanj', 'Ambala', 'Parbhani', 'West Kameng', 'Shirpur',\n",
       "       'Kadi', 'Aluva', 'Vallabh Vidyanagar', 'Bathinda', 'Purnea',\n",
       "       'Palampur', 'Buldhana', 'Hubli', 'Akola', 'Puttur', 'Ponneri',\n",
       "       'Ooty', 'Muzaffarpur', 'Thiruvallur', 'Mandya', 'Kurnool',\n",
       "       'Haldia', 'Chittoor', 'Itanagar', 'Periyakulam', 'Palanpur',\n",
       "       'Gondiya', 'Anantapur', 'Bagalkot', 'Bidar', 'Port Blair',\n",
       "       'Nalgonda', 'Marigaon', 'Palghar', 'Sonitpur', 'Mohanpur',\n",
       "       'Kanyakumari', 'Jorhat', 'Taliparamba', 'Nainital', 'Bijnor',\n",
       "       'Perambalur', 'Pathankot', 'Baishnabnagar', 'Thirunanravur',\n",
       "       'Uthiramerur', 'Muzaffarnagar', 'Etcherla', 'Gorakhpur',\n",
       "       'Gobindgarh', 'Raichur', 'Faizabad', 'Turkaulia', 'Jhunjhunu',\n",
       "       'Ongole', 'Bela', 'Bahadurgarh', 'Tonk', 'Murshidabad',\n",
       "       'Pathanamthitta', 'Ajmer', 'Karaikal', 'Tadepalligudem',\n",
       "       'Karaikudi', 'Mahe', 'Saidapet', 'Saharanpur', 'Tirunelveli',\n",
       "       'Shikohabad', 'Anuppur', 'Navsari', 'Haldwani', 'Kadamtala',\n",
       "       'Mettupalayam', 'Thoothukudi', 'Malappuram', 'Alwar', 'Bharatpur',\n",
       "       'Namakkal', 'Kanpur Dehat', 'Rewa', 'Hapur', 'Kolar', 'Sirmaur',\n",
       "       'Hazaribagh', 'West Tripura', 'Sriganganagar', 'Ponda',\n",
       "       'Rishikesh', 'Haridwar', 'Mehsana', 'Churu', 'Bhilai',\n",
       "       'Paralkhemundi', 'Gunupur', 'Mahasamund', 'Ujjain', 'Wadhwan',\n",
       "       'South 24 Parganas', 'Shahdol', 'Churachandpur', 'Sikar',\n",
       "       'Madhuban', 'Chhatarpur', 'Palamu', 'Sardarshahr', 'South Sikkim',\n",
       "       'Gopalganj', 'Birbhum', 'Balaghat', 'Asansol', 'Krishna', 'Guna',\n",
       "       'Amethi', 'Kokrajhar', 'Sirohi', 'Papum Pare', 'Bardoli', 'Satna',\n",
       "       'Aizawl', 'Nuzvid', 'Nadia', 'Kalyani', 'Phagwara', 'Kaithal',\n",
       "       'Gangoh', 'Bulandshahr', 'Ramgarh', 'Hosur', 'Amravati', 'Nanded',\n",
       "       'Sagar', 'Siliguri', 'Sasaram', 'Dausa', 'Kanjirappally',\n",
       "       'Kariapatti', 'Darjeeling', 'Bardhaman', 'Ambedkar Nagar',\n",
       "       'Ghatkesar', 'Jhajjar', 'Perundurai', 'Nadiad', 'Palwal',\n",
       "       'Bhilwara', 'Amroha', 'Rajam', 'Modasa', 'Ambegaon', 'Rasipuram',\n",
       "       'Mirzapur', 'Sivaganga', 'Narasaraopet', 'Karur', 'Kadapa',\n",
       "       'Garhwal', 'Amaravathi', 'Chandi', 'Poonamallee', 'Tiruvannamalai',\n",
       "       'Saltlake', 'Kothamangalam', 'Chengannur', 'Pulwama',\n",
       "       'Rajapalayam', 'Purulia', 'Motihari', 'Malda', 'Malout',\n",
       "       'Ramanathapuram', 'Jalgaon', 'Villupuram', 'Hooghly', 'Sangareddy',\n",
       "       'Kannauj', 'Haveri', 'Bangalore Rural', 'Tekkali', 'Bankura',\n",
       "       'Hajipur', 'Medinipur', 'Sultanpur', 'Madanapalle', 'Pudukkottai',\n",
       "       'Kendujhar', 'Vidisha', 'Pakala', 'Deoghar', 'Shimoga',\n",
       "       'Karimnagar', 'Banda', 'Raigarh', 'Chaibasa', 'Sonbhadra',\n",
       "       'Nagapattinam', 'Kumbakonam', 'Rae Bareli', 'Ramanagar', 'Valsad',\n",
       "       'Bishnupur', 'Mewat', 'Rampur', 'Pasighat', 'Chapra', 'Mainpuri',\n",
       "       'Sidhpur', 'Chikmagalur', 'Thiruvarur', 'The Nilgiris', 'Chirala',\n",
       "       'Patan', 'Tiptur', 'Prakasam', 'Bhadohi', 'Neemrana', 'Almora',\n",
       "       'Srirangam', 'Cherthala', 'Katihar', 'Kodagu', 'Tiruchendur',\n",
       "       'Sundarnagar', 'Ganjam', 'Chickballapur', 'Firozpur',\n",
       "       'Karunagapally', 'Bhimtal', 'Saharsa', 'Supaul', 'Krishnagiri',\n",
       "       'Santiniketan', 'Rajampet', 'Bhiwani', 'Bellary', 'Serampore',\n",
       "       'Muvattupuzha', 'Sullia', 'Khammam', 'Chitrakoot', 'Khargone',\n",
       "       'Viluppuram', 'Hoshiarpur', 'Pithoragarh', 'Kodarma', 'Salcete',\n",
       "       'Thiruvalla', 'Angul', 'Beed', 'Khorda', 'Tirutani', 'Nizamabad',\n",
       "       'Suryapet', 'Shegaon', 'Latur', 'Aundipatti', 'Paragana',\n",
       "       'Katpadi', 'Gadag', 'Banaskantha', 'Bharuch', 'Siddipet',\n",
       "       'Jhalawar', 'Baramulla', 'Barabanki', 'Pandharpur',\n",
       "       'Bodinayakanur', 'Haringhat', 'Chamoli', 'Wada', 'Sivasagar',\n",
       "       'Basavakalyan', 'Cuddalore', 'Vandavasi', 'Kamrup', 'Satara',\n",
       "       'Balasore', 'Chengalpattu', 'Seetharamapuram', 'Sirsa',\n",
       "       'Osmanabad', 'Arni', 'Bhuj', 'Khalapur', 'Bapatla', 'Neemuch',\n",
       "       'Chikhli', 'Karwar', 'Pattukkottai', 'Kalikiri', 'Bhadrak',\n",
       "       'Baruipur', 'Thuraiyur', 'Peermade', 'Theni', 'Tindivanam',\n",
       "       'Modinagar', 'Sabarkantha', 'Baleswar', 'Muktsar', 'Bhalki',\n",
       "       'Palakoderu', 'Maduranthakam', 'Jaunpur', 'Chikkaballapur',\n",
       "       'Tuticorin', 'Godhra', 'Mananthavady', 'Shivpuri', 'Sitapur',\n",
       "       'Kalol', 'Sitamarhi', 'Vaishali', 'Banswara', 'Palani',\n",
       "       'Kovilpatti', 'Chamarajnagar', 'Udham Singh Nagar', 'Kachchh',\n",
       "       'Murakambattu', 'Godavari', 'Naigaon', 'Begusarai', 'Behrampore',\n",
       "       'Thottiyam', 'Dadra & Nagar Haveli', 'Shahjahanpur', 'Jamnagar',\n",
       "       'Bhatkal', 'Washim', 'Srinagar Garhwal', 'Palamaner', 'Yanam',\n",
       "       'Venkatachalam', 'Puttaparthy', 'Ariyalur', 'Khandwa', 'Karimganj',\n",
       "       'Faridkot', 'Adilabad', 'Jind', 'Haliyal', 'Bhandara',\n",
       "       'Pappiredipatti', 'Banka', 'Palladam', 'Buxar',\n",
       "       'Jyotiba Phule Nagar', 'Nelamagala', 'Bokaro', 'Chinnasalem',\n",
       "       'Kaushambi', 'Ananthapur', 'Sundergarh', 'Azamgarh', 'Amreli',\n",
       "       'Gonda', 'Adoor', 'Nawanshahr', 'Panvel', 'Karad', 'Chandausi',\n",
       "       'Moinabad', 'Palwancha', 'Koraput', 'Garividi', 'Ganganagar',\n",
       "       'Korba', 'Bhawanipatna', 'Rajpura', 'Proddatur', 'Burhanpur',\n",
       "       'Datia', 'Barshi', 'Matar', 'Rajnandgaon', 'Chikodi', 'Rewari',\n",
       "       'Bhaghpat', 'Himmatnagar', 'Dharapuram', 'Vedaranyam', 'Malegaon',\n",
       "       'Madhepura', 'Jehanabad', 'Panchmahal', 'Dumka', 'Betul',\n",
       "       'Nilokheri', 'Sawai Madhopur', 'Kichha', 'Ratlam', 'Tirupattur',\n",
       "       'Barwani', 'Damoh', 'Porbandar', 'Baramati', 'Farrukhabad',\n",
       "       'Siwan', 'Hingoli', 'Cheyyur', 'Pilibhit', 'Vapi', 'Kalyan',\n",
       "       'Perinthalmanna', 'Deoria', 'Sohna', 'Bastar', 'Wadwani',\n",
       "       'Chhindwara', 'Nakur', 'Balurghat', 'Arcot', 'Kheda', 'Mansa',\n",
       "       'Charkhi Dadri', 'Dasuya', 'Badnapur', 'Goregaon', 'Khed',\n",
       "       'Silvassa', 'North 24 Parganas', 'Hayathnagar', 'Burwan',\n",
       "       'Jharsuguda', 'Vadakara', 'Malkapur', 'Dungarpur', 'Puri',\n",
       "       'Gobichettipalayam', 'Rajsamand', 'Narnaul', 'Khanna', 'Firozabad',\n",
       "       'Bundi', 'Sindhudurg', 'Melur', 'Kallakurichi', 'Chandrakona',\n",
       "       'Unnao', 'Ahmadpur', 'Surguja', 'Mahemdabad', 'Bagpat', 'Pali',\n",
       "       'Gadchiroli', 'Kottarakara', 'Bhiwandi', 'Gajapati',\n",
       "       'Mahendragarh', 'Jalna', 'Hospet', 'Abohar', 'Tiruchengodu',\n",
       "       'Bargarh', 'Jayamkondacholapuram', 'Morvi', 'Vallam', 'Mandvi',\n",
       "       'Rapthadu', 'Bhikhiwind', 'Batala', 'Saikheda', 'Tikamgarh',\n",
       "       'Chiplun', 'Botad', 'Tanakpur', 'Tuljapur', 'Hanumangarh',\n",
       "       'Ankleshwar', 'Arwal', 'Bhojpur', 'Bhabua', 'Rudraprayag',\n",
       "       'Mayiladuthurai', 'Umarga', 'Adoni', 'Kohima', 'Alipurduar',\n",
       "       'Nilambur', 'Morena', 'Devakottai', 'Nagaon', 'Jagatsinghpur',\n",
       "       'Tiruppattur', 'Hardoi', 'Bundwan', 'Aska', 'Badaun', 'Barpeta',\n",
       "       'Sahibganj', 'Ghazipur', 'Auraiya', 'Baksa', 'Pathsala',\n",
       "       'Dakshin Dinajpur', 'Kannada', 'Belda', 'Udhampur', 'Dhubri',\n",
       "       'Lakhimpur', 'Goalpara', 'Jajapur', 'Bongaigaon', 'Mavelikara',\n",
       "       'Uttar Dinajpur', 'Chakdaha', 'Chandannagar', 'Chatra', 'Bhind',\n",
       "       'Guduru', 'Nalbari', 'Orai', 'Golaghat', 'Sibsagar',\n",
       "       'Aruppukottai', 'Dhemaji', 'Fatehpur', 'Ballia', 'Ilayangudi',\n",
       "       'Araria', 'Gangarampur', 'Ankola', 'Dakshin Kannada', 'Mandla',\n",
       "       'Phulbani', 'Thalasery', 'Champhai', 'Dindori', 'Panna', 'Katni',\n",
       "       'Anantnag', 'Belthangady', 'Sehore', 'Kanker', 'Champawat',\n",
       "       'Jashpur', 'Saiha', 'Balod', 'Doraha', 'Harnaut', 'Arrah', 'Lohit',\n",
       "       'Fatehabad', 'Tenkasi', 'Jaintia Hills', 'Etah', 'East Siang',\n",
       "       'Kodungallur', 'Hanamkonda', 'Thoubal', 'Kalna', 'Nawada',\n",
       "       'Karanjia', 'Sant Ravidas Nagar', 'Darrang', 'Kuchinda',\n",
       "       'Bageshwar', 'Kurseong', 'Tinsukia', 'Ramachandrapuram',\n",
       "       'Bahraich', 'Mannarkad', 'Ponani', 'Baripada', 'Honavar',\n",
       "       'Chitradurga', 'Bettiah', 'Mayabander', 'Manbazar', 'Kendrapara',\n",
       "       'Vaniyambadi', 'Manantahvady', 'Mau', 'Mettur', 'Manjeri',\n",
       "       'Ottpalam', 'Changanacherry', 'Ottapalam', 'Neturia', 'Namkhana',\n",
       "       'Tirurangadi', 'Mahamaya Nagar', 'Koyilandi', 'Ranibennur',\n",
       "       'Balangir', 'Uttarkashi', 'Madhubani', 'Umaria', 'Tanuku',\n",
       "       'Nidadavole', 'Ziro', 'Dispur', 'Siddharthnagar', 'Hoshangabad',\n",
       "       'Rajahmundhry', 'Chincholi', 'Moodbidri', 'Narasapuram',\n",
       "       'Hailakandi', 'West Siang', 'Pathanapuram', 'Rajauri',\n",
       "       'Virudhachalam', 'Tirur', 'Chandel', 'Udumalaipettai', 'Doda',\n",
       "       'Phek', 'Mokokchung', 'West Garo Hills', 'Dhar', 'Garhwa',\n",
       "       'Nalanda', 'Tambaram', 'Kheri', 'Vikarabad', 'Thirumangalam',\n",
       "       'Ambattur', 'Bolangir', 'Kathua', 'Bolpur Sriniketan',\n",
       "       'Machilipatnam', 'Sirsi', 'Sambhal', 'Kakinada', 'Pratapgarh',\n",
       "       'Gyanpur', 'Rudra pur', 'Nallajerla', 'Rupnagar', 'Neyyattinkara',\n",
       "       'Paonta', 'Raikal', 'Umarkhed', 'Chopda', 'Tiswadi', 'Chittur'],\n",
       "      dtype=object)"
      ]
     },
     "execution_count": 32,
     "metadata": {},
     "output_type": "execute_result"
    }
   ],
   "source": [
    "unique_city_names"
   ]
  },
  {
   "cell_type": "code",
   "execution_count": 33,
   "metadata": {},
   "outputs": [],
   "source": [
    "city_count = data['College City'].value_counts().sort_index(ascending=True)"
   ]
  },
  {
   "cell_type": "code",
   "execution_count": 34,
   "metadata": {},
   "outputs": [
    {
     "data": {
      "text/plain": [
       "Abohar           3\n",
       "Adilabad         1\n",
       "Adoni            1\n",
       "Adoor            1\n",
       "Agartala         9\n",
       "                ..\n",
       "Yamuna Nagar    21\n",
       "Yanam            2\n",
       "Yavatmal         7\n",
       "Ziro             1\n",
       "Zunhebotto       2\n",
       "Name: College City, Length: 849, dtype: int64"
      ]
     },
     "execution_count": 34,
     "metadata": {},
     "output_type": "execute_result"
    }
   ],
   "source": [
    "city_count"
   ]
  },
  {
   "cell_type": "code",
   "execution_count": 35,
   "metadata": {},
   "outputs": [],
   "source": [
    "selecting_features = ['College Name', 'College City', 'State', 'List_of_Courses'];\n",
    "for feature in selecting_features:\n",
    "    data[feature] = data[feature].fillna('')"
   ]
  },
  {
   "cell_type": "code",
   "execution_count": 36,
   "metadata": {},
   "outputs": [],
   "source": [
    "combine_feat = data['College Name']+data['College City']+data['State']+data['List_of_Courses']"
   ]
  },
  {
   "cell_type": "code",
   "execution_count": 37,
   "metadata": {},
   "outputs": [
    {
     "name": "stdout",
     "output_type": "stream",
     "text": [
      "0        IIM Bangalore - Indian Institute of Management...\n",
      "1        IIT Madras - Indian Institute of Technology - ...\n",
      "2        Universal Business School - [UBS]KarjatMaharas...\n",
      "3        IIT Delhi - Indian Institute of Technology [II...\n",
      "4        IIT Bombay - Indian Institute of Technology - ...\n",
      "                               ...                        \n",
      "10005    Katuri Medical College and HospitalGunturAndhr...\n",
      "10006    Kempegowda Institute of Medical Sciences - [KI...\n",
      "10007    Kempegowda Institute of Physiotherapy - [KIPT]...\n",
      "10008    Khaja Bandanawaz Institute of Medical Sciences...\n",
      "10009    Government Kilpauk Medical College - [GKMC]Che...\n",
      "Length: 10010, dtype: object\n"
     ]
    }
   ],
   "source": [
    "print(combine_feat)"
   ]
  },
  {
   "cell_type": "code",
   "execution_count": 39,
   "metadata": {},
   "outputs": [],
   "source": [
    "vectorizer = TfidfVectorizer()\n",
    "feature_vectors = vectorizer.fit_transform(combine_feat)\n"
   ]
  },
  {
   "cell_type": "code",
   "execution_count": 40,
   "metadata": {},
   "outputs": [
    {
     "name": "stdout",
     "output_type": "stream",
     "text": [
      "  (0, 8757)\t0.5441093212233986\n",
      "  (0, 10278)\t0.10506897416224462\n",
      "  (0, 6791)\t0.15487440284755968\n",
      "  (0, 6721)\t0.3551557839528093\n",
      "  (0, 1919)\t0.5209528988756006\n",
      "  (0, 6575)\t0.5209528988756006\n",
      "  (1, 131)\t0.05433107111255238\n",
      "  (1, 6437)\t0.06331951754767864\n",
      "  (1, 6418)\t0.0583462572735465\n",
      "  (1, 4043)\t0.048627530395243874\n",
      "  (1, 9973)\t0.08707893861006645\n",
      "  (1, 14646)\t0.04342647645115011\n",
      "  (1, 503)\t0.04961874497346596\n",
      "  (1, 8427)\t0.04309779770569692\n",
      "  (1, 9047)\t0.04698035720806546\n",
      "  (1, 9098)\t0.04817895321507176\n",
      "  (1, 10794)\t0.10778346379650176\n",
      "  (1, 1)\t0.04464548469933383\n",
      "  (1, 0)\t0.05543708650685299\n",
      "  (1, 12004)\t0.05252791574015948\n",
      "  (1, 4516)\t0.06041034678098512\n",
      "  (1, 5881)\t0.03403326468336915\n",
      "  (1, 15725)\t0.05337299699941437\n",
      "  (1, 3849)\t0.032610004955179774\n",
      "  (1, 4795)\t0.03909792616723982\n",
      "  :\t:\n",
      "  (10006, 9135)\t0.3055176918527456\n",
      "  (10006, 12531)\t0.3064520339221887\n",
      "  (10006, 10278)\t0.09933033335525909\n",
      "  (10006, 6791)\t0.14641549692195208\n",
      "  (10007, 7796)\t0.6029589486276338\n",
      "  (10007, 7704)\t0.5772737941675152\n",
      "  (10007, 10926)\t0.4357815669373866\n",
      "  (10007, 1921)\t0.29245767236246833\n",
      "  (10007, 10278)\t0.09353608076213808\n",
      "  (10007, 6791)\t0.13787461777601287\n",
      "  (10008, 7657)\t0.4988615228687566\n",
      "  (10008, 1914)\t0.4776107639269451\n",
      "  (10008, 7733)\t0.462533110507942\n",
      "  (10008, 5938)\t0.4200315926243188\n",
      "  (10008, 9135)\t0.23802682473353198\n",
      "  (10008, 12531)\t0.23875476449589345\n",
      "  (10008, 10278)\t0.07738760955182664\n",
      "  (10008, 6791)\t0.11407135086930413\n",
      "  (10009, 5675)\t0.5854378621395451\n",
      "  (10009, 7782)\t0.5854378621395451\n",
      "  (10009, 5810)\t0.27684201318698537\n",
      "  (10009, 3355)\t0.13100689908338783\n",
      "  (10009, 9135)\t0.2793358657980205\n",
      "  (10009, 9719)\t0.1989221047090192\n",
      "  (10009, 3107)\t0.32112642621107096\n"
     ]
    }
   ],
   "source": [
    "print(feature_vectors)"
   ]
  },
  {
   "cell_type": "code",
   "execution_count": 41,
   "metadata": {},
   "outputs": [
    {
     "name": "stdout",
     "output_type": "stream",
     "text": [
      "[[1.         0.02089472 0.         ... 0.03118099 0.02579777 0.        ]\n",
      " [0.02089472 1.         0.         ... 0.00727892 0.0216296  0.0166454 ]\n",
      " [0.         0.         1.         ... 0.         0.         0.        ]\n",
      " ...\n",
      " [0.03118099 0.00727892 0.         ... 1.         0.02296608 0.        ]\n",
      " [0.02579777 0.0216296  0.         ... 0.02296608 1.         0.06648943]\n",
      " [0.         0.0166454  0.         ... 0.         0.06648943 1.        ]]\n"
     ]
    }
   ],
   "source": [
    "similarity = cosine_similarity(feature_vectors)\n",
    "print(similarity)"
   ]
  },
  {
   "cell_type": "code",
   "execution_count": 42,
   "metadata": {},
   "outputs": [],
   "source": [
    "choice_state = input('Enter the state where you want your college')\n",
    "choice_city = input('Enter the city of your choice')\n"
   ]
  },
  {
   "cell_type": "code",
   "execution_count": 43,
   "metadata": {},
   "outputs": [],
   "source": [
    "state_name = data['State'].tolist()\n",
    "city_name = data['College City'].tolist()\n",
    "college_name = data['College Name'].tolist()"
   ]
  },
  {
   "cell_type": "code",
   "execution_count": 44,
   "metadata": {},
   "outputs": [
    {
     "name": "stdout",
     "output_type": "stream",
     "text": [
      "['Chhattisgarh', 'Chhattisgarh', 'Chhattisgarh']\n"
     ]
    }
   ],
   "source": [
    "find_close_match = difflib.get_close_matches(choice_state, state_name)\n",
    "print(find_close_match)"
   ]
  },
  {
   "cell_type": "code",
   "execution_count": 45,
   "metadata": {},
   "outputs": [
    {
     "name": "stdout",
     "output_type": "stream",
     "text": [
      "['Bhilai', 'Bhilai', 'Bhilai']\n"
     ]
    }
   ],
   "source": [
    "find_close_match_city = difflib.get_close_matches(choice_city, city_name)\n",
    "print(find_close_match_city)"
   ]
  },
  {
   "cell_type": "code",
   "execution_count": 46,
   "metadata": {},
   "outputs": [],
   "source": [
    "close_match_state = find_close_match[0]\n",
    "close_match_city = find_close_match_city[0]\n"
   ]
  },
  {
   "cell_type": "code",
   "execution_count": 53,
   "metadata": {},
   "outputs": [
    {
     "name": "stdout",
     "output_type": "stream",
     "text": [
      "['Indian Institute of Management - [IIM]'\n",
      " 'Hidayatullah National Law University - [HNLU]'\n",
      " 'National Institute of Technology - [NIT]'\n",
      " 'Dr. C.V. Raman University - [CVRU]'\n",
      " 'Government Jamuna Prasad Verma Post Graduate Arts and Commerce College'\n",
      " 'Indira Gandhi Krishi Vishwavidyalaya - [IGKV]'\n",
      " 'Guru Ghasidas Vishwavidyalaya - [GGU]'\n",
      " 'Dignity College of Architecture - [DCA]' 'ITM University'\n",
      " 'Shaheed Gundadhur College of Agriculture and Research - [SGCARS]'\n",
      " 'Mahant Laxminarayan Das College'\n",
      " 'Pt. Ravishankar Shukla University - [PRSU]'\n",
      " 'RMD College of Agriculture and Research Station'\n",
      " 'Kushabhau Thakre Patrakarita Avam Jansanchar Vishwavidyalaya'\n",
      " 'Chhattisgarh Kamdhenu Vishwavidyalaya - [CGKV]' 'MATS University'\n",
      " 'IIT Bhilai - Indian Institute of Technology - [IITB]'\n",
      " 'Government Mahaprabhu Vallabhacharya Post Graduate College'\n",
      " 'Amity University'\n",
      " 'International Institute of Information Technology - [IIIT] Naya Raipur'\n",
      " 'Bhilai Institute of Technology - [BIT]'\n",
      " 'Bhilai Institute of Technology - [BITR]' 'Govt Engineering College'\n",
      " 'OP Jindal University - [OPJU]'\n",
      " 'Lakhmi Chand Institute of Technology - [LCIT]' 'ICFAI University'\n",
      " 'Raipur Institute of Technology - [RITEE]'\n",
      " 'Shri Shankaracharya Institute of Professional Management and Technology - [SSIPMT]'\n",
      " 'Chhatrapati Shivaji Institute of Technology - [CSIT]'\n",
      " 'Shri Rawatpura Sarkar University - [SRU]'\n",
      " 'Government Engineering College - [GEC]'\n",
      " 'Columbia Institute of Engineering and Technology - [CIET]'\n",
      " 'Maharishi University of Management and Technology Bilaspur Campus - [MUMT]'\n",
      " 'AAFT University of Media and Arts - [AAFT]'\n",
      " 'Chouksey Engineering College - [CEC]'\n",
      " 'Christian College of Engineering and Technology - [CCET]'\n",
      " 'Chhattisgarh Engineering College - [CEC]'\n",
      " 'Rungta College of Engineering and Technology - [RCET]'\n",
      " 'KK Modi University - [KKMU]' 'Kirodimal Institute of Technology'\n",
      " 'Krishna Engineering College - [KEC]'\n",
      " 'RSR Rungta College of Engineering and Technology - [RSRRCET]'\n",
      " 'Shri Shankaracharya Group of Institutions - [SSGI]'\n",
      " 'Shri Shankaracharya Technical Campus - [SSTC]' 'Sun Engineering College'\n",
      " 'M M College of Technology - [MMCT]'\n",
      " 'Rungta College of Engineering and Technology - [RCET]'\n",
      " 'Rungta Group of Institutions Bhilai Campus'\n",
      " 'Rungta Engineering College - [REC]'\n",
      " 'Central Institute of Plastics Engineering & Technology - [CIPET]'\n",
      " 'Central College of Engineering and Management - [CCEM]'\n",
      " 'Kruti Institute of Technology and Engineering - [KITE]'\n",
      " 'ISBM University' 'J.K. Institute of Engineering - [JKIE]'\n",
      " 'Disha College of Management Studies- [DCMS]'\n",
      " 'Institute of Technology - [IT]'\n",
      " 'Shri Rawatpura Sarkar Institute of Technology'\n",
      " 'Rungta Engineering College - [REC]'\n",
      " 'Ashoka Institute of Technology and Management - [AITM]'\n",
      " 'Chhattisgarh institute of management and technology - [CIMT]'\n",
      " 'Central Institute of Technology - [CIT]'\n",
      " 'Bharti College of Engineering and Technology - [BCET]'\n",
      " 'Yugantar Institute of Technology and Management - [YITM]'\n",
      " 'Parthivi College of Engineering and Management'\n",
      " 'Shivalik Institute of Management Education and Research - [SIMER]'\n",
      " 'Rungta College of Science and Technology - [RCST]'\n",
      " 'Shri Shankaracharya Institute of Engineering & Technology - [SSIET]'\n",
      " 'Government Engineering College'\n",
      " 'Shri Shankaracharya Institute of Technology and Management - [SSITM]'\n",
      " 'Garv Institute of Management and Technology - [GIMT]'\n",
      " 'Vindhya Institute of Technology and Science - [VITS]'\n",
      " 'MATS  School of Engineering and Information Technology'\n",
      " 'Rungta Group of Institutions Raipur Campus'\n",
      " 'VishwaVidyalaya Engineering College - [VEC]'\n",
      " 'Bhartiya College of Agriculture and Agricultural Engineering'\n",
      " 'Chattisgarh Institute of Technology - [CIT]'\n",
      " 'Professional Institute of Engineering and Technology - [PIET]'\n",
      " 'Chhattisgarh Agriculture Engineering College'\n",
      " 'GD Rungta College of Engineering and Technology - [GDRCET]'\n",
      " 'OP Jindal University School Of Engineering - [OPJU]'\n",
      " 'Balaji Institute of Technology Management and Research - [BITMR]'\n",
      " 'MATS University, School of Information Technology'\n",
      " 'MATS School of Management Studies and Research - [MSMSR]'\n",
      " 'MATS  School of Business Studies'\n",
      " 'Guru Ghasidas Vishwavidyalaya, Faculty of Engineering & Technology'\n",
      " 'Bhilai Mahila Mahavidyalaya' 'Christ College' 'D.L.S. P.G. College'\n",
      " 'Durga Mahavidyalaya' 'Ghanshyam Singh Arya Kanya Mahavidyalaya'\n",
      " \"Government DB Girl's Post Graduate College\"\n",
      " 'Government Digvijay Autonomous College'\n",
      " 'Government Maharishi Valmiki College'\n",
      " 'Government Ram Bhajan Rai NES College'\n",
      " 'Government Shahid Kaushal Yadav College'\n",
      " 'Government V.Y.T. PG Autonomous College' \"Holy Cross Women's College\"\n",
      " 'Kalyan Post Graduate College' 'Pragati College'\n",
      " 'Seth Phoolchand Agrawal Smriti College'\n",
      " 'Seth RCS College of Art and Commerce'\n",
      " 'Shri Agrasen Kanya Mahavidyalaya - [AGC]'\n",
      " 'Shri Sai Baba Aadarsh Mahavidyalaya - [SSBAM]'\n",
      " 'Swami Shri Swaroopanand Saraswati Mahavidyalaya - [SSSSMV]'\n",
      " 'Agrasen Mahavidyalaya'\n",
      " 'All India Institute of Medical Sciences - [AIIMS]'\n",
      " 'Chhattisgarh Dental College and Research Institute -[CDCRI]'\n",
      " 'Maitri College of Dentistry and Research Centre - [MCDRC]'\n",
      " 'Rungta College of Dental Sciences and Research - [RCDSR]'\n",
      " 'D.P. Vipra Law College ' 'Apollo College of Pharmacy'\n",
      " 'Columbia Institute of Pharmacy - [CIP]'\n",
      " 'Apollo College of Physiotherapy' 'Central India College of Nursing'\n",
      " 'Chhattisgarh Institute of Medical Sciences - [CIMS]']\n"
     ]
    }
   ],
   "source": [
    "name_of_college = data[data.State == close_match_state]['College Name'].values\n",
    "print(name_of_college)"
   ]
  },
  {
   "cell_type": "code",
   "execution_count": 63,
   "metadata": {},
   "outputs": [],
   "source": [
    "name_of_college = data[data.City == close_match_city]['College Name'].values"
   ]
  },
  {
   "cell_type": "code",
   "execution_count": 64,
   "metadata": {},
   "outputs": [
    {
     "name": "stdout",
     "output_type": "stream",
     "text": [
      "['IIT Bhilai - Indian Institute of Technology - [IITB]'\n",
      " 'Christian College of Engineering and Technology - [CCET]'\n",
      " 'Rungta College of Engineering and Technology - [RCET]'\n",
      " 'Krishna Engineering College - [KEC]'\n",
      " 'RSR Rungta College of Engineering and Technology - [RSRRCET]'\n",
      " 'Shri Shankaracharya Group of Institutions - [SSGI]'\n",
      " 'Rungta Group of Institutions Bhilai Campus'\n",
      " 'Rungta Engineering College - [REC]'\n",
      " 'Chhattisgarh institute of management and technology - [CIMT]'\n",
      " 'Parthivi College of Engineering and Management'\n",
      " 'Garv Institute of Management and Technology - [GIMT]'\n",
      " 'GD Rungta College of Engineering and Technology - [GDRCET]'\n",
      " 'Swami Shri Swaroopanand Saraswati Mahavidyalaya - [SSSSMV]'\n",
      " 'Rungta College of Dental Sciences and Research - [RCDSR]']\n"
     ]
    }
   ],
   "source": [
    "print(name_of_college)"
   ]
  },
  {
   "cell_type": "code",
   "execution_count": 68,
   "metadata": {},
   "outputs": [
    {
     "name": "stdout",
     "output_type": "stream",
     "text": [
      "User's choice of preference for City is :  Hyderabad\n",
      "Colleges recommended for user : \n",
      "\n",
      "1 . IIT Hyderabad - Indian Institute of Technology - [IITH]\n",
      "2 . IIT Hyderabad - Indian Institute of Technology - [IITH]\n",
      "3 . NALSAR University of Law - [NALSAR]\n",
      "4 . University of Hyderabad - [UOH]\n",
      "5 . Institute Of Hotel Management Catering Technology & Applied Nutrition- [IHMH ]\n",
      "6 . National Institute of Fashion Technology - [NIFT]\n",
      "7 . National Institute of Pharmaceutical Education and Research - [NIPER]\n",
      "8 . Indian School of Business - [ISB]\n",
      "9 . St Ann's College for Women\n",
      "10 . International Institute of Information Technology - [IIIT]\n",
      "11 . Jawaharlal Nehru Technological University - [JNTUH]\n",
      "12 . University college of Law, Osmania University\n",
      "13 . ICFAI Business School - [IBS]\n",
      "14 . Jawaharlal Nehru Architecture and Fine Arts University - [JNAFAU]\n",
      "15 . ICFAI Law School\n"
     ]
    }
   ],
   "source": [
    "choice_city = input('Enter the city where you want your college')\n",
    "find_close_match = difflib.get_close_matches(choice_city, city_name)\n",
    "close_match_city = find_close_match[0]\n",
    "name_of_college = data[data.City == close_match_city]['College Name'].values\n",
    "\n",
    "print('User\\'s choice of preference for City is : ',choice_city)\n",
    "\n",
    "print('Colleges recommended for user : \\n')\n",
    "\n",
    "i = 0\n",
    "for movie in name_of_college:\n",
    "  index = movie[0]\n",
    "  name_of_college = data[data.City == close_match_city]['College Name'].values[i]\n",
    "  if (i<15):\n",
    "    print(i+1, '.',name_of_college)\n",
    "    i+=1"
   ]
  },
  {
   "cell_type": "code",
   "execution_count": null,
   "metadata": {},
   "outputs": [],
   "source": []
  }
 ],
 "metadata": {
  "kernelspec": {
   "display_name": "Python 3",
   "language": "python",
   "name": "python3"
  },
  "language_info": {
   "codemirror_mode": {
    "name": "ipython",
    "version": 3
   },
   "file_extension": ".py",
   "mimetype": "text/x-python",
   "name": "python",
   "nbconvert_exporter": "python",
   "pygments_lexer": "ipython3",
   "version": "3.10.9"
  },
  "orig_nbformat": 4,
  "vscode": {
   "interpreter": {
    "hash": "486e0d5a79acdbfffd563ee7a67a93a5017bd2a4f66495483a69f0245c8a4a6c"
   }
  }
 },
 "nbformat": 4,
 "nbformat_minor": 2
}
